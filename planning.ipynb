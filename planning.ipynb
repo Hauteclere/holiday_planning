{
 "cells": [
  {
   "cell_type": "code",
   "execution_count": 27,
   "metadata": {},
   "outputs": [
    {
     "data": {
      "text/plain": [
       "15.040657534246575"
      ]
     },
     "execution_count": 27,
     "metadata": {},
     "output_type": "execute_result"
    }
   ],
   "source": [
    "import datetime \n",
    "\n",
    "def days_available(year, month, day):\n",
    "    date_today = datetime.date(2025, 2, 22)\n",
    "    days_today=5.616\n",
    "    first_holiday = datetime.date(year, month, day)\n",
    "    delta = first_holiday-date_today\n",
    "    extra_days = 20*delta.days/365\n",
    "    return days_today+extra_days\n",
    "\n",
    "days_available(2025, 8, 13)\n",
    "\n"
   ]
  },
  {
   "cell_type": "code",
   "execution_count": null,
   "metadata": {},
   "outputs": [],
   "source": []
  }
 ],
 "metadata": {
  "kernelspec": {
   "display_name": "3.12.3",
   "language": "python",
   "name": "python3"
  },
  "language_info": {
   "codemirror_mode": {
    "name": "ipython",
    "version": 3
   },
   "file_extension": ".py",
   "mimetype": "text/x-python",
   "name": "python",
   "nbconvert_exporter": "python",
   "pygments_lexer": "ipython3",
   "version": "3.12.3"
  }
 },
 "nbformat": 4,
 "nbformat_minor": 2
}
